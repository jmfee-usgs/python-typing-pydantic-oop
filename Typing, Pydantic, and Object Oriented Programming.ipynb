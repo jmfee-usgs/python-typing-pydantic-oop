{
 "cells": [
  {
   "cell_type": "markdown",
   "source": [
    "# GHSC HazDev Summer Python Tutorial Series\n",
    "## Typing, Object Oriented Programming, and Pydantic\n",
    "August 11, 2021\n"
   ],
   "metadata": {}
  },
  {
   "cell_type": "markdown",
   "source": [
    "## Typing\r\n",
    "\r\n",
    "- Python 3.6+\r\n",
    "- Typing _Hints_\r\n",
    "- Documentation as code\r\n",
    "- Useful for IDE intellisense\r\n",
    "- Use `mypy` to check for errors in a CI/CD pipeline\r\n",
    "\r\n",
    "  > The Python **runtime does not enforce function and variable type annotations**.\r\n",
    "  > They can be used by third party tools such as type checkers, IDEs, linters, etc.  \r\n",
    "  > https://docs.python.org/3/library/typing.html\r\n"
   ],
   "metadata": {}
  },
  {
   "cell_type": "markdown",
   "source": [
    "### Typing Syntax\r\n"
   ],
   "metadata": {}
  },
  {
   "cell_type": "code",
   "execution_count": null,
   "source": [
    "# variable example\r\n",
    "# name: type = <value>\r\n",
    "# (or name = <value>)\r\n",
    "name: str = \"World\"\r\n",
    "\r\n",
    "\r\n",
    "# function example\r\n",
    "# def function_name(<parameters>) -> return_type:\r\n",
    "def greet(greeting: str, name: str) -> str:\r\n",
    "    return f\"{greeting}, {name}\"\r\n",
    "\r\n",
    "\r\n",
    "result = greet(\"Hello\", name)\r\n",
    "print(result)"
   ],
   "outputs": [],
   "metadata": {}
  },
  {
   "cell_type": "markdown",
   "source": [
    "### Typing Example"
   ],
   "metadata": {}
  },
  {
   "cell_type": "code",
   "execution_count": null,
   "source": [
    "# show function source from 'examples/using_json/get_catalog.py\r\n",
    "from examples.using_json.get_catalog import get_catalog\r\n",
    "import inspect\r\n",
    "\r\n",
    "print(inspect.getsource(get_catalog))"
   ],
   "outputs": [],
   "metadata": {}
  },
  {
   "cell_type": "code",
   "execution_count": null,
   "source": [
    "# load events and show event data structure\r\n",
    "from dateutil.parser import isoparse\r\n",
    "from examples.using_json.get_catalog import get_catalog\r\n",
    "from examples.time import parse_milliseconds\r\n",
    "\r\n",
    "catalog = get_catalog(\r\n",
    "    starttime=isoparse(\"2021-01-01\"),\r\n",
    "    endtime=isoparse(\"2021-08-11\"),\r\n",
    "    producttype=\"finite-fault\",\r\n",
    ")\r\n",
    "events = catalog[\"features\"]\r\n",
    "events[0]\r\n"
   ],
   "outputs": [],
   "metadata": {}
  },
  {
   "cell_type": "code",
   "execution_count": null,
   "source": [
    "# format list of events\r\n",
    "print(f\"{len(events)} matching events:\")\r\n",
    "for event in events:\r\n",
    "    props = event[\"properties\"]\r\n",
    "    time = parse_milliseconds(props[\"time\"]).date().isoformat()\r\n",
    "    print(f\"{time} - M{props['mag']:.1f} {props['place']}\")\r\n"
   ],
   "outputs": [],
   "metadata": {}
  },
  {
   "cell_type": "markdown",
   "source": [
    "## VSCode Extensions\r\n",
    "\r\n",
    "Python specific:\r\n",
    "- Jupyter\r\n",
    "- Mypy\r\n",
    "- Python\r\n",
    "  - (try the Black formatter)\r\n",
    "\r\n",
    "General:\r\n",
    "- Formatting Toggle\r\n",
    "- GitLens\r\n",
    "- Prettier"
   ],
   "metadata": {}
  },
  {
   "cell_type": "markdown",
   "source": [
    "\r\n",
    "## Pydantic\r\n",
    "\r\n",
    "- python 3.6+\r\n",
    "- uses type hints for JSON parsing/formatting\r\n",
    "- **enforces type hints at runtime**\r\n",
    "- creates automatic constructor (more later on this)\r\n",
    "- override validators and parsing logic\r\n",
    "- used by FastAPI for web services, and Typer for command line interfaces"
   ],
   "metadata": {}
  },
  {
   "cell_type": "markdown",
   "source": [
    "### Pydantic syntax"
   ],
   "metadata": {}
  },
  {
   "cell_type": "code",
   "execution_count": null,
   "source": [
    "import json\r\n",
    "\r\n",
    "from pydantic import BaseModel\r\n",
    "\r\n",
    "\r\n",
    "class User(BaseModel):\r\n",
    "    id: int\r\n",
    "    name: str\r\n",
    "\r\n",
    "\r\n",
    "user = User(id=1, name=\"Jill\")\r\n",
    "print(user.name)\r\n",
    "print(user.json())\r\n",
    "\r\n",
    "user2_json = \"\"\"\r\n",
    "{\r\n",
    "    \"id\": 5, \r\n",
    "    \"name\": \"Jack\"\r\n",
    "}\r\n",
    "\"\"\"\r\n",
    "user2 = User(**json.loads(user2_json))\r\n",
    "print(user2.json(exclude={\"id\"}))"
   ],
   "outputs": [],
   "metadata": {}
  },
  {
   "cell_type": "markdown",
   "source": [
    "### JSON Schema"
   ],
   "metadata": {}
  },
  {
   "cell_type": "code",
   "execution_count": null,
   "source": [
    "print(User.schema_json())"
   ],
   "outputs": [],
   "metadata": {}
  },
  {
   "cell_type": "markdown",
   "source": [
    "### Validation"
   ],
   "metadata": {}
  },
  {
   "cell_type": "code",
   "execution_count": null,
   "source": [
    "from pydantic import ValidationError\r\n",
    "\r\n",
    "try:\r\n",
    "    User(id=\"abc\", name=\"123\")\r\n",
    "except ValidationError as e:\r\n",
    "    print(e)"
   ],
   "outputs": [],
   "metadata": {}
  },
  {
   "cell_type": "markdown",
   "source": [
    "### Pydantic example"
   ],
   "metadata": {}
  },
  {
   "cell_type": "code",
   "execution_count": null,
   "source": [
    "# show function source from 'examples/using_pydantic/get_catalog.py\r\n",
    "from examples.using_pydantic import get_catalog\r\n",
    "\r\n",
    "print(inspect.getsource(get_catalog))"
   ],
   "outputs": [],
   "metadata": {}
  },
  {
   "cell_type": "code",
   "execution_count": null,
   "source": [
    "# load events and show event data structure\r\n",
    "from dateutil.parser import isoparse\r\n",
    "from examples.using_pydantic import get_catalog\r\n",
    "\r\n",
    "catalog = get_catalog(\r\n",
    "    starttime=isoparse(\"2021-01-01\"),\r\n",
    "    endtime=isoparse(\"2021-08-11\"),\r\n",
    "    producttype=\"finite-fault\",\r\n",
    ")\r\n",
    "events = catalog.features\r\n",
    "events[0]\r\n"
   ],
   "outputs": [],
   "metadata": {}
  },
  {
   "cell_type": "code",
   "execution_count": null,
   "source": [
    "# format list of events\r\n",
    "print(f\"{len(events)} matching events\")\r\n",
    "for event in events:\r\n",
    "    props = event.properties\r\n",
    "    time = props.time.date().isoformat()\r\n",
    "    print(f\"{time} - M{props.mag:.1f} {props.place}\")\r\n"
   ],
   "outputs": [],
   "metadata": {}
  },
  {
   "cell_type": "markdown",
   "source": [
    "## Object Oriented Programming\r\n",
    "\r\n",
    "- \"Data with methods\"\r\n",
    "- `Class`es define functionality\r\n",
    "- Create multiple `Object`s that are separate instances\r\n"
   ],
   "metadata": {}
  },
  {
   "cell_type": "markdown",
   "source": [
    "### Class Syntax"
   ],
   "metadata": {}
  },
  {
   "cell_type": "code",
   "execution_count": null,
   "source": [
    "# class example\r\n",
    "# class ClassName(<parent class,es>):\r\n",
    "class Greeter(object):\r\n",
    "    \"\"\"Docstring for class.\r\n",
    "\r\n",
    "    Goes here instead of with __init__ method.\r\n",
    "    \"\"\"\r\n",
    "\r\n",
    "    # list attributes with type hints\r\n",
    "    greeting: str\r\n",
    "\r\n",
    "    def __init__(self, greeting=\"Hello\"):\r\n",
    "        # __init__ is called when creating instance, and initializes state\r\n",
    "        self.greeting = greeting\r\n",
    "\r\n",
    "    def greet(self, name: str) -> str:\r\n",
    "        # member functions include \"self\" as first parameter,\r\n",
    "        # which is reference to instance of class\r\n",
    "        return f\"{self.greeting}, {name}\"\r\n",
    "\r\n",
    "\r\n",
    "# create a new instance\r\n",
    "greeter = Greeter()\r\n",
    "# call the instance greet method\r\n",
    "print(greeter.greet(\"world\"))"
   ],
   "outputs": [],
   "metadata": {}
  },
  {
   "cell_type": "markdown",
   "source": [
    "### Key concepts"
   ],
   "metadata": {}
  },
  {
   "cell_type": "markdown",
   "source": [
    "#### Encapsulation\r\n",
    "\r\n",
    "Hiding internal state, by using \"public\", \"protected\", or \"private\" attributes and methods.  \r\n",
    "\r\n",
    "Python uses conventions to label different types of attributes, but does not completely restrict access.\r\n",
    "\r\n",
    "- `__private` attributes are \"mangled\" so subclasses use different internal names to avoid conflicts.  This makes it difficult to access outside a class.\r\n",
    "\r\n",
    "- `_protected` attributes indicate a class uses the attribute for internal state and should not be modified.\r\n",
    "  \r\n",
    "- `public` attributes are intended for public access and/or modification.\r\n",
    "\r\n",
    "As a general rule, use `public` and `_protected` attributes for testing and inheritance.\r\n"
   ],
   "metadata": {}
  },
  {
   "cell_type": "code",
   "execution_count": null,
   "source": [
    "class EncapsulationDemo(object):\r\n",
    "    # use private variable to store property value\r\n",
    "    __name: str\r\n",
    "\r\n",
    "    @property\r\n",
    "    def name(self):\r\n",
    "        print(f\"called name getter\")\r\n",
    "        return self.__name\r\n",
    "\r\n",
    "    @name.setter\r\n",
    "    def name(self, name: str):\r\n",
    "        print(f\"called name setter with {name}\")\r\n",
    "        self.__name = name.capitalize()\r\n",
    "\r\n",
    "\r\n",
    "instance = EncapsulationDemo()\r\n",
    "instance.name = \"hello\"\r\n",
    "print(instance.name)"
   ],
   "outputs": [],
   "metadata": {}
  },
  {
   "cell_type": "markdown",
   "source": [
    "#### Abstraction\r\n",
    "\r\n",
    "Hiding implementation details, by providing a simple or generic interface.\r\n"
   ],
   "metadata": {}
  },
  {
   "cell_type": "code",
   "execution_count": null,
   "source": [
    "from typing import List\r\n",
    "\r\n",
    "\r\n",
    "class AbstractDataFactory:\r\n",
    "    # this interface hides details about how to get data\r\n",
    "    def get_data(self) -> List[str]:\r\n",
    "        raise NotImplementedError()\r\n"
   ],
   "outputs": [],
   "metadata": {}
  },
  {
   "cell_type": "markdown",
   "source": [
    "#### Inheritance\r\n",
    "\r\n",
    "Extending/overriding existing behavior."
   ],
   "metadata": {}
  },
  {
   "cell_type": "code",
   "execution_count": null,
   "source": [
    "class JsonDataFactory(AbstractDataFactory):\r\n",
    "    file: str\r\n",
    "\r\n",
    "    def __init__(self, file: str):\r\n",
    "        self.file = file\r\n",
    "\r\n",
    "    # this is a simpler interface that hides loading/parsing details\r\n",
    "    def get_data(self) -> List:\r\n",
    "        data = self._load_data()\r\n",
    "        return self._parse_data(data)\r\n",
    "\r\n",
    "    def _load_data(self) -> bytes:\r\n",
    "        # read from some data source, return bytes\r\n",
    "        return \"data from file\".encode()\r\n",
    "\r\n",
    "    def _parse_data(self, data: bytes) -> List:\r\n",
    "        # parse json, convert to rows\r\n",
    "        return [data.decode()]\r\n",
    "\r\n",
    "\r\n",
    "class DatabaseDataFactory(JsonDataFactory):\r\n",
    "    # get_data, and _parse_data are inherited from parent class unless overridden\r\n",
    "    db_url: str\r\n",
    "\r\n",
    "    def __init__(self, db_url: str):\r\n",
    "        # must call the base class __init__ method first\r\n",
    "        super().__init__(file=\"file\")\r\n",
    "        self.db_url = db_url\r\n",
    "\r\n",
    "    def _load_data(self) -> bytes:\r\n",
    "        # connect to database and read json data\r\n",
    "        return \"data from database\".encode()\r\n"
   ],
   "outputs": [],
   "metadata": {}
  },
  {
   "cell_type": "markdown",
   "source": [
    "#### Polymorphism\r\n",
    "\r\n",
    "Using subclasses in place of a parent class."
   ],
   "metadata": {}
  },
  {
   "cell_type": "code",
   "execution_count": null,
   "source": [
    "class DataReport:\r\n",
    "    # just needs data, so works with base class\r\n",
    "    factory: AbstractDataFactory\r\n",
    "\r\n",
    "    def __init__(self, factory: AbstractDataFactory):\r\n",
    "        self.factory = factory\r\n",
    "\r\n",
    "    def format(self) -> str:\r\n",
    "        data = self.factory.get_data()\r\n",
    "        # format report using data\r\n",
    "        return \"\\n\".join(data)\r\n",
    "\r\n",
    "\r\n",
    "print(\"Using json factory:\", DataReport(JsonDataFactory(\"file\")).format())\r\n",
    "print(\r\n",
    "    \"Using database factory:\",\r\n",
    "    DataReport(DatabaseDataFactory(\"sqlite:///test.db\")).format(),\r\n",
    ")\r\n"
   ],
   "outputs": [],
   "metadata": {}
  },
  {
   "cell_type": "markdown",
   "source": [
    "### Magic Methods\r\n",
    "\r\n",
    "- `__init__`\r\n",
    "  constructor for new instance of a class\r\n",
    "- `__lt__`, `__eq__`, ...\r\n",
    "  comparison operators  \r\n",
    "  check out [https://docs.python.org/3/library/functools.html#functools.total_ordering](https://docs.python.org/3/library/functools.html#functools.total_ordering) \r\n",
    "- `__len__`\r\n",
    "\r\n",
    "\r\n",
    "> [https://docs.python.org/3/reference/datamodel.html#basic-customization](https://docs.python.org/3/reference/datamodel.html#basic-customization)"
   ],
   "metadata": {}
  },
  {
   "cell_type": "markdown",
   "source": [
    "### SOLID Design Principles\r\n",
    "\r\n",
    "> Robert C. Martin, 2000, Design Principles and Design Patterns, [https://fi.ort.edu.uy/innovaportal/file/2032/1/design_principles.pdf](https://fi.ort.edu.uy/innovaportal/file/2032/1/design_principles.pdf)\r\n",
    "\r\n",
    "\r\n",
    "#### **S**ingle-responsibility principle\r\n",
    "\r\n",
    "A class should have one, and only one, reason to change.\r\n",
    "\r\n",
    "Use separate classes for Data IO and Processing.\r\n",
    "\r\n",
    "#### **O**pen–closed principle\r\n",
    "\r\n",
    "You should be able to extend a classes behavior, without modifying it.\r\n",
    "\r\n",
    "Take advantage of polymorphism and inheritance to extend/modify behavior.\r\n",
    "\r\n",
    "#### **L**iskov substitution principle\r\n",
    "\r\n",
    "Derived classes must be substitutable for their base classes.\r\n",
    "\r\n",
    "#### **I**nterface segregation principle\r\n",
    "\r\n",
    "Make fine grained interfaces that are client specific.\r\n",
    "\r\n",
    "Some clients may only need to read data, and an interface for reading may be easier to implement than one for both reading and writing.\r\n",
    "\r\n",
    "#### **D**ependency inversion principle\r\n",
    "\r\n",
    "Depend on abstractions, not on concretions.\r\n",
    "\r\n",
    "By accepting abstract/base classes as parameters, code is more easily reused.\r\n"
   ],
   "metadata": {}
  },
  {
   "cell_type": "markdown",
   "source": [
    "### Migrating Existing Projects\r\n",
    "\r\n",
    "- Look for code that could benefit from _Encapsulation_, _Abstration_, _Inheritance_, and _Polymorphism_.\r\n",
    "\r\n",
    "- Similar sequences of if statements spread across a codebase are great candidates.  Extracting to a class can make it easier to support new models/inputs/etc.\r\n",
    "\r\n",
    "- Start small.\r\n",
    "\r\n",
    "- Add a class to implement behavior, and refactor existing code to use the new class. (Tests make refactoring easier).\r\n",
    "\r\n",
    "- Don't overthink abstractions up front.\r\n"
   ],
   "metadata": {}
  }
 ],
 "metadata": {
  "interpreter": {
   "hash": "77c524c7216b97bc96e189438a5b828ebf68668da3492651ed7411fe0bd9e015"
  },
  "kernelspec": {
   "name": "python3",
   "display_name": "Python 3.7.7 64-bit ('base': conda)"
  },
  "language_info": {
   "codemirror_mode": {
    "name": "ipython",
    "version": 3
   },
   "file_extension": ".py",
   "mimetype": "text/x-python",
   "name": "python",
   "nbconvert_exporter": "python",
   "pygments_lexer": "ipython3",
   "version": "3.7.7"
  }
 },
 "nbformat": 4,
 "nbformat_minor": 5
}