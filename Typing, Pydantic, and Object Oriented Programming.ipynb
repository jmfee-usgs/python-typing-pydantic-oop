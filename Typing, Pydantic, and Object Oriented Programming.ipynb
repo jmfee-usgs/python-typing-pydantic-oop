{
 "cells": [
  {
   "cell_type": "markdown",
   "source": [
    "# GHSC HazDev Summer Python Tutorial Series\r\n",
    "## Typing, Pydantic, and Object Oriented Programming\r\n",
    "August 11, 2021\r\n"
   ],
   "metadata": {}
  },
  {
   "cell_type": "markdown",
   "source": [
    "## Python Typing\r\n",
    "\r\n",
    "### Dynamically typed  \r\n",
    "Can assign different types to one variable\r\n",
    "\r\n",
    "### Strongly typed  \r\n",
    "Types are not automatically converted"
   ],
   "metadata": {}
  },
  {
   "cell_type": "code",
   "execution_count": 1,
   "source": [
    "# Dynamically typed\r\n",
    "a = 1\r\n",
    "print(type(a))\r\n",
    "a = \"1\"\r\n",
    "print(type(a))\r\n",
    "\r\n",
    "# Strongly typed\r\n",
    "try:\r\n",
    "    \"1\" + 1\r\n",
    "except Exception as e:\r\n",
    "    print(e)"
   ],
   "outputs": [
    {
     "output_type": "stream",
     "name": "stdout",
     "text": [
      "<class 'int'>\n",
      "<class 'str'>\n",
      "can only concatenate str (not \"int\") to str\n"
     ]
    }
   ],
   "metadata": {}
  },
  {
   "cell_type": "markdown",
   "source": [
    "## Type Hints\r\n",
    "\r\n",
    "- Python 3.6+\r\n",
    "- Documentation as code\r\n",
    "- Useful for IDE intellisense\r\n",
    "- Use `mypy` to check for errors in a CI/CD pipeline\r\n",
    "\r\n",
    "  > The Python **runtime does not enforce function and variable type annotations**.\r\n",
    "  > They can be used by third party tools such as type checkers, IDEs, linters, etc.  \r\n",
    "  > https://docs.python.org/3/library/typing.html\r\n"
   ],
   "metadata": {}
  },
  {
   "cell_type": "markdown",
   "source": [
    "### Typing Syntax\r\n"
   ],
   "metadata": {}
  },
  {
   "cell_type": "code",
   "execution_count": 2,
   "source": [
    "# variable example\r\n",
    "# name: type = <value>\r\n",
    "# (or name = <value>)\r\n",
    "name: str = \"World\"\r\n",
    "\r\n",
    "\r\n",
    "# function example\r\n",
    "# def function_name(<parameters>) -> return_type:\r\n",
    "def greet(greeting: str, name: str) -> str:\r\n",
    "    return f\"{greeting}, {name}\"\r\n",
    "\r\n",
    "\r\n",
    "result = greet(\"Hello\", name)\r\n",
    "print(result)"
   ],
   "outputs": [
    {
     "output_type": "stream",
     "name": "stdout",
     "text": [
      "Hello, World\n"
     ]
    }
   ],
   "metadata": {}
  },
  {
   "cell_type": "markdown",
   "source": [
    "### Type Hints Example"
   ],
   "metadata": {}
  },
  {
   "cell_type": "code",
   "execution_count": 3,
   "source": [
    "from examples.using_json import get_catalog\r\n",
    "import inspect\r\n",
    "\r\n",
    "print(inspect.getsource(get_catalog))\r\n"
   ],
   "outputs": [
    {
     "output_type": "stream",
     "name": "stdout",
     "text": [
      "def get_catalog(\n",
      "    starttime: datetime,\n",
      "    endtime: datetime,\n",
      "    url: str = DEFAULT_URL,\n",
      "    **kwargs,\n",
      ") -> Dict:\n",
      "    \"\"\"Load events from the USGS Earthquake Web Service.\n",
      "\n",
      "    Arguments\n",
      "    ---------\n",
      "    starttime:\n",
      "        minimum event time\n",
      "    endtime:\n",
      "        maximum event time\n",
      "    url:\n",
      "        url for FDSN Event web service query endpoint\n",
      "    **kwargs\n",
      "        other keyword arguments are passed as query parameters\n",
      "        see https://earthquake.usgs.gov/fdsnws/event/1/\n",
      "\n",
      "    Returns\n",
      "    -------\n",
      "    GeoJson Feature Collection as Dict.\n",
      "    \"\"\"\n",
      "    response = requests.get(\n",
      "        url=url,\n",
      "        params={\n",
      "            \"endtime\": endtime.isoformat(),\n",
      "            \"format\": \"geojson\",\n",
      "            \"starttime\": starttime.isoformat(),\n",
      "            **kwargs,\n",
      "        },\n",
      "    )\n",
      "    logging.info(f\"Loaded {response.url}\")\n",
      "    response.raise_for_status()\n",
      "    # response is json (a geojson featurecollection)\n",
      "    catalog = response.json()\n",
      "    return catalog\n",
      "\n"
     ]
    }
   ],
   "metadata": {}
  },
  {
   "cell_type": "code",
   "execution_count": 4,
   "source": [
    "# load events and show event data structure\r\n",
    "from dateutil.parser import isoparse\r\n",
    "from examples.using_json import get_catalog\r\n",
    "from examples.time import parse_milliseconds\r\n",
    "\r\n",
    "catalog = get_catalog(\r\n",
    "    starttime=isoparse(\"2021-01-01\"),\r\n",
    "    endtime=isoparse(\"2021-08-11\"),\r\n",
    "    producttype=\"finite-fault\",\r\n",
    ")\r\n",
    "events = catalog[\"features\"]\r\n",
    "events[0]\r\n"
   ],
   "outputs": [
    {
     "output_type": "execute_result",
     "data": {
      "text/plain": [
       "{'type': 'Feature',\n",
       " 'properties': {'mag': 8.2,\n",
       "  'place': '104 km SE of Perryville, Alaska',\n",
       "  'time': 1627539347536,\n",
       "  'updated': 1628663149409,\n",
       "  'tz': None,\n",
       "  'url': 'https://earthquake.usgs.gov/earthquakes/eventpage/ak0219neiszm',\n",
       "  'detail': 'https://earthquake.usgs.gov/fdsnws/event/1/query?eventid=ak0219neiszm&format=geojson',\n",
       "  'felt': 268,\n",
       "  'cdi': 8.1,\n",
       "  'mmi': 7.355,\n",
       "  'alert': 'yellow',\n",
       "  'status': 'reviewed',\n",
       "  'tsunami': 1,\n",
       "  'sig': 1252,\n",
       "  'net': 'ak',\n",
       "  'code': '0219neiszm',\n",
       "  'ids': ',ak0219neiszm,us6000f02w,at00qwzteb,pt21210001,usauto6000f02w,',\n",
       "  'sources': ',ak,us,at,pt,usauto,',\n",
       "  'types': ',dyfi,finite-fault,general-text,ground-failure,impact-link,internal-moment-tensor,internal-origin,losspager,moment-tensor,oaf,origin,phase-data,shakemap,trump-losspager,trump-shakemap,',\n",
       "  'nst': None,\n",
       "  'dmin': None,\n",
       "  'rms': 0.8,\n",
       "  'gap': None,\n",
       "  'magType': 'mww',\n",
       "  'type': 'earthquake',\n",
       "  'title': 'M 8.2 - 104 km SE of Perryville, Alaska'},\n",
       " 'geometry': {'type': 'Point', 'coordinates': [-157.8414, 55.3248, 32.2]},\n",
       " 'id': 'ak0219neiszm'}"
      ]
     },
     "metadata": {},
     "execution_count": 4
    }
   ],
   "metadata": {}
  },
  {
   "cell_type": "code",
   "execution_count": 5,
   "source": [
    "# format list of events\r\n",
    "print(f\"{len(events)} matching events:\")\r\n",
    "for event in events:\r\n",
    "    props = event[\"properties\"]\r\n",
    "    time = parse_milliseconds(props[\"time\"]).date().isoformat()\r\n",
    "    print(f\"{time} - M{props['mag']:.1f} {props['place']}\")\r\n"
   ],
   "outputs": [
    {
     "output_type": "stream",
     "name": "stdout",
     "text": [
      "11 matching events:\n",
      "2021-07-29 - M8.2 104 km SE of Perryville, Alaska\n",
      "2021-07-21 - M6.7 71 km S of Punta de Burica, Panama\n",
      "2021-07-08 - M6.0 Antelope Valley, CA\n",
      "2021-05-21 - M7.3 Southern Qinghai, China\n",
      "2021-03-20 - M7.0 30 km E of Ishinomaki, Japan\n",
      "2021-03-04 - M8.1 Kermadec Islands, New Zealand\n",
      "2021-03-04 - M7.4 Kermadec Islands, New Zealand\n",
      "2021-02-13 - M7.1 73 km ENE of Namie, Japan\n",
      "2021-02-10 - M7.7 southeast of the Loyalty Islands\n",
      "2021-01-19 - M6.4 26 km SW of Pocito, Argentina\n",
      "2021-01-11 - M6.7 29 km SSW of Turt, Mongolia\n"
     ]
    }
   ],
   "metadata": {}
  },
  {
   "cell_type": "markdown",
   "source": [
    "## VSCode Extensions\r\n",
    "\r\n",
    "Python specific:\r\n",
    "- Jupyter\r\n",
    "- Mypy\r\n",
    "- Python\r\n",
    "  - (try the Black formatter)\r\n",
    "\r\n",
    "General:\r\n",
    "- Formatting Toggle\r\n",
    "- GitLens\r\n",
    "- Prettier"
   ],
   "metadata": {}
  },
  {
   "cell_type": "markdown",
   "source": [
    "\r\n",
    "## Pydantic\r\n",
    "\r\n",
    "- python 3.6+\r\n",
    "- uses type hints for JSON parsing/formatting\r\n",
    "- **enforces type hints at runtime**\r\n",
    "- creates automatic constructor (more later on this)\r\n",
    "- override validators and parsing logic\r\n",
    "- used by FastAPI for web services, and Typer for command line interfaces"
   ],
   "metadata": {}
  },
  {
   "cell_type": "markdown",
   "source": [
    "### Pydantic syntax"
   ],
   "metadata": {}
  },
  {
   "cell_type": "code",
   "execution_count": 6,
   "source": [
    "import json\r\n",
    "\r\n",
    "from pydantic import BaseModel\r\n",
    "\r\n",
    "\r\n",
    "class User(BaseModel):\r\n",
    "    id: int\r\n",
    "    name: str\r\n",
    "\r\n",
    "\r\n",
    "user = User(id=1, name=\"Jill\")\r\n",
    "print(user.name)\r\n",
    "print(user.json())\r\n",
    "\r\n",
    "user2_json = \"\"\"\r\n",
    "{\r\n",
    "    \"id\": 5, \r\n",
    "    \"name\": \"Jack\"\r\n",
    "}\r\n",
    "\"\"\"\r\n",
    "user2 = User(**json.loads(user2_json))\r\n",
    "print(user2.json(exclude={\"id\"}))"
   ],
   "outputs": [
    {
     "output_type": "stream",
     "name": "stdout",
     "text": [
      "Jill\n",
      "{\"id\": 1, \"name\": \"Jill\"}\n",
      "{\"name\": \"Jack\"}\n"
     ]
    }
   ],
   "metadata": {}
  },
  {
   "cell_type": "markdown",
   "source": [
    "### JSON Schema"
   ],
   "metadata": {}
  },
  {
   "cell_type": "code",
   "execution_count": 7,
   "source": [
    "print(User.schema_json())"
   ],
   "outputs": [
    {
     "output_type": "stream",
     "name": "stdout",
     "text": [
      "{\"title\": \"User\", \"type\": \"object\", \"properties\": {\"id\": {\"title\": \"Id\", \"type\": \"integer\"}, \"name\": {\"title\": \"Name\", \"type\": \"string\"}}, \"required\": [\"id\", \"name\"]}\n"
     ]
    }
   ],
   "metadata": {}
  },
  {
   "cell_type": "markdown",
   "source": [
    "### Validation"
   ],
   "metadata": {}
  },
  {
   "cell_type": "code",
   "execution_count": 8,
   "source": [
    "from pydantic import ValidationError\r\n",
    "\r\n",
    "try:\r\n",
    "    User(id=\"abc\", name=\"123\")\r\n",
    "except ValidationError as e:\r\n",
    "    print(e)"
   ],
   "outputs": [
    {
     "output_type": "stream",
     "name": "stdout",
     "text": [
      "1 validation error for User\n",
      "id\n",
      "  value is not a valid integer (type=type_error.integer)\n"
     ]
    }
   ],
   "metadata": {}
  },
  {
   "cell_type": "markdown",
   "source": [
    "### Pydantic example"
   ],
   "metadata": {}
  },
  {
   "cell_type": "code",
   "execution_count": 9,
   "source": [
    "# show function source from 'examples/using_pydantic/get_catalog.py\r\n",
    "from examples.using_pydantic import get_catalog\r\n",
    "\r\n",
    "print(inspect.getsource(get_catalog))"
   ],
   "outputs": [
    {
     "output_type": "stream",
     "name": "stdout",
     "text": [
      "def get_catalog(\n",
      "    starttime: datetime,\n",
      "    endtime: datetime,\n",
      "    url: str = DEFAULT_URL,\n",
      "    **kwargs,\n",
      ") -> EarthquakeCatalog:\n",
      "    \"\"\"Load events from the USGS Earthquake Web Service.\n",
      "\n",
      "    Arguments\n",
      "    ---------\n",
      "    starttime:\n",
      "        minimum event time\n",
      "    endtime:\n",
      "        maximum event time\n",
      "    url:\n",
      "        url for FDSN Event web service query endpoint\n",
      "    **kwargs\n",
      "        other keyword arguments are passed as query parameters.\n",
      "        see https://earthquake.usgs.gov/fdsnws/event/1/\n",
      "\n",
      "    Returns\n",
      "    -------\n",
      "    List of matching event geojson features.\n",
      "    \"\"\"\n",
      "    response = requests.get(\n",
      "        url=url,\n",
      "        params={\n",
      "            \"endtime\": endtime.isoformat(),\n",
      "            \"format\": \"geojson\",\n",
      "            \"starttime\": starttime.isoformat(),\n",
      "            **kwargs,\n",
      "        },\n",
      "    )\n",
      "    logging.info(f\"Loaded {response.url}\")\n",
      "    response.raise_for_status()\n",
      "    # parse response (a geojson featurecollection)\n",
      "    return EarthquakeCatalog(**response.json())\n",
      "\n"
     ]
    }
   ],
   "metadata": {}
  },
  {
   "cell_type": "code",
   "execution_count": 10,
   "source": [
    "# load events and show event data structure\r\n",
    "from dateutil.parser import isoparse\r\n",
    "from examples.using_pydantic import get_catalog\r\n",
    "\r\n",
    "catalog = get_catalog(\r\n",
    "    starttime=isoparse(\"2021-01-01\"),\r\n",
    "    endtime=isoparse(\"2021-08-11\"),\r\n",
    "    producttype=\"finite-fault\",\r\n",
    ")\r\n",
    "events = catalog.features\r\n",
    "events[0]\r\n"
   ],
   "outputs": [
    {
     "output_type": "execute_result",
     "data": {
      "text/plain": [
       "EarthquakeSummaryFeature(type='Feature', id='ak0219neiszm', properties=EarthquakeSummaryFeatureProperties(alert='yellow', cdi=8.1, code='0219neiszm', detail='https://earthquake.usgs.gov/fdsnws/event/1/query?eventid=ak0219neiszm&format=geojson', dmin=None, felt=268, gap=None, ids={'at00qwzteb', 'pt21210001', 'us6000f02w', 'ak0219neiszm', 'usauto6000f02w'}, mag=8.2, magType='mww', mmi=7.355, net='ak', nst=None, place='104 km SE of Perryville, Alaska', rms=0.8, sig=1252, sources={'ak', 'pt', 'us', 'usauto', 'at'}, status='reviewed', time=datetime.datetime(2021, 7, 29, 6, 15, 47, 536000, tzinfo=tzutc()), title='M 8.2 - 104 km SE of Perryville, Alaska', tsunami=1, type='earthquake', types={'trump-losspager', 'losspager', 'phase-data', 'trump-shakemap', 'origin', 'dyfi', 'finite-fault', 'internal-moment-tensor', 'general-text', 'internal-origin', 'shakemap', 'oaf', 'moment-tensor', 'ground-failure', 'impact-link'}, tz=None, updated=datetime.datetime(2021, 8, 11, 6, 25, 49, 409000, tzinfo=tzutc()), url='https://earthquake.usgs.gov/earthquakes/eventpage/ak0219neiszm'), geometry=PointGeometry(type='Point', coordinates=[-157.8414, 55.3248, 32.2]))"
      ]
     },
     "metadata": {},
     "execution_count": 10
    }
   ],
   "metadata": {}
  },
  {
   "cell_type": "code",
   "execution_count": 11,
   "source": [
    "# format list of events\r\n",
    "print(f\"{len(events)} matching events\")\r\n",
    "for event in events:\r\n",
    "    props = event.properties\r\n",
    "    time = props.time.date().isoformat()\r\n",
    "    print(f\"{time} - M{props.mag:.1f} {props.place}\")\r\n"
   ],
   "outputs": [
    {
     "output_type": "stream",
     "name": "stdout",
     "text": [
      "11 matching events\n",
      "2021-07-29 - M8.2 104 km SE of Perryville, Alaska\n",
      "2021-07-21 - M6.7 71 km S of Punta de Burica, Panama\n",
      "2021-07-08 - M6.0 Antelope Valley, CA\n",
      "2021-05-21 - M7.3 Southern Qinghai, China\n",
      "2021-03-20 - M7.0 30 km E of Ishinomaki, Japan\n",
      "2021-03-04 - M8.1 Kermadec Islands, New Zealand\n",
      "2021-03-04 - M7.4 Kermadec Islands, New Zealand\n",
      "2021-02-13 - M7.1 73 km ENE of Namie, Japan\n",
      "2021-02-10 - M7.7 southeast of the Loyalty Islands\n",
      "2021-01-19 - M6.4 26 km SW of Pocito, Argentina\n",
      "2021-01-11 - M6.7 29 km SSW of Turt, Mongolia\n"
     ]
    }
   ],
   "metadata": {}
  },
  {
   "cell_type": "markdown",
   "source": [
    "## Object Oriented Programming\r\n",
    "\r\n",
    "- \"Data with methods\"\r\n",
    "- `Class`es define functionality\r\n",
    "- Create multiple `Object`s that are separate instances\r\n"
   ],
   "metadata": {}
  },
  {
   "cell_type": "markdown",
   "source": [
    "### Class Syntax"
   ],
   "metadata": {}
  },
  {
   "cell_type": "code",
   "execution_count": 12,
   "source": [
    "# class example\r\n",
    "# class ClassName(<parent class,es>):\r\n",
    "class Greeter(object):\r\n",
    "    \"\"\"Docstring for class.\r\n",
    "\r\n",
    "    Goes here instead of with __init__ method.\r\n",
    "    \"\"\"\r\n",
    "\r\n",
    "    # list attributes with type hints\r\n",
    "    greeting: str\r\n",
    "\r\n",
    "    def __init__(self, greeting=\"Hello\"):\r\n",
    "        # __init__ is called when creating instance, and initializes state\r\n",
    "        self.greeting = greeting\r\n",
    "\r\n",
    "    def greet(self, name: str) -> str:\r\n",
    "        # member functions include \"self\" as first parameter,\r\n",
    "        # which is reference to instance of class\r\n",
    "        return f\"{self.greeting}, {name}\"\r\n",
    "\r\n",
    "\r\n",
    "# create a new instance\r\n",
    "greeter = Greeter()\r\n",
    "# call the instance greet method\r\n",
    "print(greeter.greet(\"world\"))"
   ],
   "outputs": [
    {
     "output_type": "stream",
     "name": "stdout",
     "text": [
      "Hello, world\n"
     ]
    }
   ],
   "metadata": {}
  },
  {
   "cell_type": "markdown",
   "source": [
    "### Key concepts"
   ],
   "metadata": {}
  },
  {
   "cell_type": "markdown",
   "source": [
    "#### Encapsulation\r\n",
    "\r\n",
    "Hiding internal state, by using \"public\", \"protected\", or \"private\" attributes and methods.  \r\n",
    "\r\n",
    "Python uses conventions to label different types of attributes, but does not completely restrict access.\r\n",
    "\r\n",
    "- `__private` attributes are \"mangled\" so subclasses use different internal names to avoid conflicts.  This makes it difficult to access outside a class.\r\n",
    "\r\n",
    "- `_protected` attributes indicate a class uses the attribute for internal state and should not be modified.\r\n",
    "  \r\n",
    "- `public` attributes are intended for public access and/or modification.\r\n",
    "\r\n",
    "As a general rule, use `public` and `_protected` attributes for testing and inheritance.\r\n"
   ],
   "metadata": {}
  },
  {
   "cell_type": "code",
   "execution_count": 13,
   "source": [
    "class EncapsulationDemo(object):\r\n",
    "    # use private variable to store property value\r\n",
    "    __name: str\r\n",
    "\r\n",
    "    @property\r\n",
    "    def name(self):\r\n",
    "        print(f\"called name getter\")\r\n",
    "        return self.__name\r\n",
    "\r\n",
    "    @name.setter\r\n",
    "    def name(self, name: str):\r\n",
    "        print(f\"called name setter with {name}\")\r\n",
    "        self.__name = name.capitalize()\r\n",
    "\r\n",
    "\r\n",
    "instance = EncapsulationDemo()\r\n",
    "instance.name = \"hello\"\r\n",
    "print(instance.name)"
   ],
   "outputs": [
    {
     "output_type": "stream",
     "name": "stdout",
     "text": [
      "called name setter with hello\n",
      "called name getter\n",
      "Hello\n"
     ]
    }
   ],
   "metadata": {}
  },
  {
   "cell_type": "markdown",
   "source": [
    "#### Abstraction\r\n",
    "\r\n",
    "Hiding implementation details, by providing a simple or generic interface.\r\n"
   ],
   "metadata": {}
  },
  {
   "cell_type": "code",
   "execution_count": 14,
   "source": [
    "from typing import List\r\n",
    "\r\n",
    "\r\n",
    "class AbstractDataFactory:\r\n",
    "    def __init__(self):\r\n",
    "        pass\r\n",
    "\r\n",
    "    # this interface hides details about how to get data\r\n",
    "    def get_data(self) -> List[str]:\r\n",
    "        raise NotImplementedError()\r\n"
   ],
   "outputs": [],
   "metadata": {}
  },
  {
   "cell_type": "markdown",
   "source": [
    "#### Inheritance\r\n",
    "\r\n",
    "Extending/overriding existing behavior."
   ],
   "metadata": {}
  },
  {
   "cell_type": "code",
   "execution_count": 15,
   "source": [
    "class JsonDataFactory(AbstractDataFactory):\r\n",
    "    file: str\r\n",
    "\r\n",
    "    def __init__(self, file: str):\r\n",
    "        # must call the base class __init__ method\r\n",
    "        super().__init__()\r\n",
    "        self.file = file\r\n",
    "\r\n",
    "    # this is a simpler interface that hides loading/parsing details\r\n",
    "    def get_data(self) -> List:\r\n",
    "        data = self._load_data()\r\n",
    "        return self._parse_data(data)\r\n",
    "\r\n",
    "    def _load_data(self) -> bytes:\r\n",
    "        # read from some data source, return bytes\r\n",
    "        return \"data from file\".encode()\r\n",
    "\r\n",
    "    def _parse_data(self, data: bytes) -> List:\r\n",
    "        # parse json, convert to rows\r\n",
    "        return [data.decode()]\r\n",
    "\r\n",
    "\r\n",
    "class DatabaseDataFactory(JsonDataFactory):\r\n",
    "    # get_data, and _parse_data are inherited from parent class unless overridden\r\n",
    "    db_url: str\r\n",
    "\r\n",
    "    def __init__(self, db_url: str):\r\n",
    "        # must call the base class __init__ method\r\n",
    "        super().__init__(file=\"file\")\r\n",
    "        self.db_url = db_url\r\n",
    "\r\n",
    "    def _load_data(self) -> bytes:\r\n",
    "        # connect to database and read json data\r\n",
    "        return \"data from database\".encode()\r\n"
   ],
   "outputs": [],
   "metadata": {}
  },
  {
   "cell_type": "markdown",
   "source": [
    "#### Polymorphism\r\n",
    "\r\n",
    "Using subclasses in place of a parent class."
   ],
   "metadata": {}
  },
  {
   "cell_type": "code",
   "execution_count": 16,
   "source": [
    "class DataReport:\r\n",
    "    # just needs data, so works with base class\r\n",
    "    factory: AbstractDataFactory\r\n",
    "\r\n",
    "    def __init__(self, factory: AbstractDataFactory):\r\n",
    "        self.factory = factory\r\n",
    "\r\n",
    "    def format(self) -> str:\r\n",
    "        data = self.factory.get_data()\r\n",
    "        # format report using data\r\n",
    "        return \"\\n\".join(data)\r\n",
    "\r\n",
    "\r\n",
    "print(\"Using json factory:\", DataReport(JsonDataFactory(\"file\")).format())\r\n",
    "print(\r\n",
    "    \"Using database factory:\",\r\n",
    "    DataReport(DatabaseDataFactory(\"sqlite:///test.db\")).format(),\r\n",
    ")\r\n"
   ],
   "outputs": [
    {
     "output_type": "stream",
     "name": "stdout",
     "text": [
      "Using json factory: data from file\n",
      "Using database factory: data from database\n"
     ]
    }
   ],
   "metadata": {}
  },
  {
   "cell_type": "markdown",
   "source": [
    "### Magic Methods\r\n",
    "\r\n",
    "- `__init__`\r\n",
    "  constructor for new instance of a class\r\n",
    "- `__lt__`, `__eq__`, ...\r\n",
    "  comparison operators  \r\n",
    "  check out [https://docs.python.org/3/library/functools.html#functools.total_ordering](https://docs.python.org/3/library/functools.html#functools.total_ordering) \r\n",
    "- `__len__`\r\n",
    "\r\n",
    "\r\n",
    "> [https://docs.python.org/3/reference/datamodel.html#basic-customization](https://docs.python.org/3/reference/datamodel.html#basic-customization)"
   ],
   "metadata": {}
  },
  {
   "cell_type": "markdown",
   "source": [
    "### SOLID Design Principles\r\n",
    "\r\n",
    "> Robert C. Martin, 2000, Design Principles and Design Patterns, [https://fi.ort.edu.uy/innovaportal/file/2032/1/design_principles.pdf](https://fi.ort.edu.uy/innovaportal/file/2032/1/design_principles.pdf)\r\n",
    "\r\n",
    "\r\n",
    "#### **S**ingle-responsibility principle\r\n",
    "\r\n",
    "A class should have one, and only one, reason to change.\r\n",
    "\r\n",
    "Use separate classes for Data IO and Processing.\r\n",
    "\r\n",
    "#### **O**pen–closed principle\r\n",
    "\r\n",
    "You should be able to extend a classes behavior, without modifying it.\r\n",
    "\r\n",
    "Take advantage of polymorphism and inheritance to extend/modify behavior.\r\n",
    "\r\n",
    "#### **L**iskov substitution principle\r\n",
    "\r\n",
    "Derived classes must be substitutable for their base classes.\r\n",
    "\r\n",
    "#### **I**nterface segregation principle\r\n",
    "\r\n",
    "Make fine grained interfaces that are client specific.\r\n",
    "\r\n",
    "Some clients may only need to read data, and an interface for reading may be easier to implement than one for both reading and writing.\r\n",
    "\r\n",
    "#### **D**ependency inversion principle\r\n",
    "\r\n",
    "Depend on abstractions, not on concretions.\r\n",
    "\r\n",
    "By accepting abstract/base classes as parameters, code is more easily reused.\r\n"
   ],
   "metadata": {}
  },
  {
   "cell_type": "markdown",
   "source": [
    "### Migrating Existing Projects\r\n",
    "\r\n",
    "- Look for code that could benefit from _Encapsulation_, _Abstration_, _Inheritance_, and _Polymorphism_.\r\n",
    "\r\n",
    "- Similar sequences of if statements spread across a codebase are great candidates.  Extracting to a class can make it easier to support new models/inputs/etc.\r\n",
    "\r\n",
    "- Start small.\r\n",
    "\r\n",
    "- Add a class to implement behavior, and refactor existing code to use the new class. (Tests make refactoring easier).\r\n",
    "\r\n",
    "- Don't overthink abstractions up front.\r\n"
   ],
   "metadata": {}
  }
 ],
 "metadata": {
  "interpreter": {
   "hash": "77c524c7216b97bc96e189438a5b828ebf68668da3492651ed7411fe0bd9e015"
  },
  "kernelspec": {
   "name": "python3",
   "display_name": "Python 3.7.7 64-bit ('base': conda)"
  },
  "language_info": {
   "codemirror_mode": {
    "name": "ipython",
    "version": 3
   },
   "file_extension": ".py",
   "mimetype": "text/x-python",
   "name": "python",
   "nbconvert_exporter": "python",
   "pygments_lexer": "ipython3",
   "version": "3.7.7"
  }
 },
 "nbformat": 4,
 "nbformat_minor": 5
}